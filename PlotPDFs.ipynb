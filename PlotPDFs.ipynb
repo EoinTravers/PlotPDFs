{
 "cells": [
  {
   "cell_type": "markdown",
   "metadata": {},
   "source": [
    "# Continuous Probability Density Functions\n",
    "\n",
    "This notebook provides interactive plots of probability density functions (PDFs)\n",
    "for some of the more useful continuous probability distributions provided in `scipy`\n",
    "([documentation here](https://docs.scipy.org/doc/scipy/reference/tutorial/stats/continuous.html)),\n",
    "along with a few custom distributions.\n",
    "\n",
    "For a reference, see Appendix A of Bayesian data analysis\n",
    "(Gelman, Carlin, Stern, Dunson, Vehtari, & Rubin; 2013).\n",
    "\n",
    "Where possible, it also includes location (`loc`) and scale (`scale`) parameters for each distribution.\n",
    "\n",
    "## Contribute\n",
    "\n",
    "The source code for this notebook is hosted [on GitHub]().\n",
    "Pull requests are welcome!"
   ]
  },
  {
   "cell_type": "code",
   "execution_count": null,
   "metadata": {},
   "outputs": [],
   "source": [
    "np.__version__"
   ]
  },
  {
   "cell_type": "code",
   "execution_count": null,
   "metadata": {},
   "outputs": [],
   "source": [
    "import numpy as np\n",
    "import matplotlib.pyplot as plt\n",
    "from scipy import stats\n",
    "from ipywidgets import interact, FloatSlider, RadioButtons\n",
    "\n",
    "def fs(v, low, high, step, desc=''):\n",
    "    '''Shorthand wrapper for ipywidgets.FloatSlider'''\n",
    "    return FloatSlider(value=v, min=low, max=high, step=step, description=desc, continuous_update=False)\n",
    "\n",
    "def plot_function(func, low=-10, high=10, *args, **kwargs):\n",
    "    x = np.linspace(low, high, 100)\n",
    "    y = func(x, *args, **kwargs)\n",
    "    plt.plot(x, y)\n",
    "\n",
    "def plot_dist(dist, low=-10, high=10, what='PDF', *args, **kwargs):\n",
    "    '''Given a distribution function, a range, and parameters, plot a PDF/CDF'''\n",
    "    d = dist(*args, **kwargs)\n",
    "    if what == 'CDF':\n",
    "        return plot_function(d.cdf, low, high)\n",
    "    else:\n",
    "        return plot_function(d.pdf, low, high)\n",
    "    plt.plot(x, y)\n",
    "\n",
    "def dist_plot(dist, low=-10, high=10, cumulative=False, *args, **kwargs):\n",
    "    '''Calls ipywidgets.interact, given a distribution, range, and parameters'''\n",
    "    def f(*args, **kwargs):\n",
    "        plot_dist(dist, low=low, high=high, *args, **kwargs)\n",
    "    return interact(f, *args, **kwargs, \n",
    "                    what=RadioButtons(options=['PDF', 'CDF'], value='PDF', description='What'))\n",
    "\n",
    "def func_plot(func, low=-10, high=10, *args, **kwargs):\n",
    "    '''Calls ipywidgets.interact, given a function, range, and parameters.\n",
    "    Use this for functions that don't come as scipy.stats distributions.\n",
    "    '''\n",
    "    def f(*args, **kwargs):\n",
    "        plot_function(func, low=low, high=high, *args, **kwargs)\n",
    "    return interact(f, *args, **kwargs)\n",
    "    "
   ]
  },
  {
   "cell_type": "markdown",
   "metadata": {},
   "source": [
    "# Normal"
   ]
  },
  {
   "cell_type": "code",
   "execution_count": null,
   "metadata": {},
   "outputs": [],
   "source": [
    "# Change the `low` and `high` parameters to adjust the range of the plot.\n",
    "dist_plot(stats.norm, low=-10, high=10,\n",
    "          loc   = fs(0, -10, 10, .1, 'μ'),\n",
    "          scale = fs(1, .1, 10, .1, 'σ'));"
   ]
  },
  {
   "cell_type": "code",
   "execution_count": null,
   "metadata": {},
   "outputs": [],
   "source": [
    "dist_plot(stats.logistic, low=-10, high=10,\n",
    "          loc   = fs(0, -10, 10, .1, 'Location'),\n",
    "          scale = fs(1, .1, 10, .1,  'Scale'));"
   ]
  },
  {
   "cell_type": "markdown",
   "metadata": {},
   "source": [
    "## Beta"
   ]
  },
  {
   "cell_type": "code",
   "execution_count": null,
   "metadata": {},
   "outputs": [],
   "source": [
    "dist_plot(stats.beta, 0, 1,\n",
    "         a   = fs(2, 0, 100, 1, 'α'),\n",
    "         b   = fs(2, 0, 100, 1, 'β'))"
   ]
  },
  {
   "cell_type": "markdown",
   "metadata": {},
   "source": [
    "## Exponential"
   ]
  },
  {
   "cell_type": "code",
   "execution_count": null,
   "metadata": {},
   "outputs": [],
   "source": [
    "dist_plot(stats.cosine, -10, 10,\n",
    "         loc   = fs(0, -10, 10, .1, 'Location'),\n",
    "         scale = fs(1, .1, 10, .1, 'Scale'));"
   ]
  },
  {
   "cell_type": "markdown",
   "metadata": {},
   "source": [
    "## Chi-Squared"
   ]
  },
  {
   "cell_type": "code",
   "execution_count": null,
   "metadata": {},
   "outputs": [],
   "source": [
    "dist_plot(stats.chi2, 0, 100, \n",
    "         df    = fs(1, 0, 100, 1, 'DF'),\n",
    "         loc   = fs(0, 0, 100, 1, 'Location'),\n",
    "         scale = fs(1, 0, 100, 1, 'Scale'));"
   ]
  },
  {
   "cell_type": "markdown",
   "metadata": {},
   "source": [
    "## F"
   ]
  },
  {
   "cell_type": "code",
   "execution_count": null,
   "metadata": {},
   "outputs": [],
   "source": [
    "dist_plot(stats.f, 0, 10, \n",
    "         dfn    = fs(1, 1, 100, 1, 'DF N'),\n",
    "         dfd    = fs(1, 1, 100, 1, 'DF D'),\n",
    "         loc   = fs(0, 0, 100, 1, 'Location'),\n",
    "         scale = fs(1, 1, 100, 1, 'Scale'));"
   ]
  },
  {
   "cell_type": "markdown",
   "metadata": {},
   "source": [
    "## Gamma"
   ]
  },
  {
   "cell_type": "code",
   "execution_count": null,
   "metadata": {},
   "outputs": [],
   "source": [
    "dist_plot(stats.gamma, 0, 15, \n",
    "         a    = fs(1, 0, 10, .1, 'Shape (a)'),\n",
    "         loc   = fs(0, 0, 100, 1, 'Location'),\n",
    "         scale = fs(1, 1, 100, 1, 'Scale'));"
   ]
  },
  {
   "cell_type": "markdown",
   "metadata": {},
   "source": [
    "## Inverse-Gaussian"
   ]
  },
  {
   "cell_type": "code",
   "execution_count": null,
   "metadata": {},
   "outputs": [],
   "source": [
    "dist_plot(stats.invgauss, 0, 1, \n",
    "         mu   = fs(.1, 0, 10, .1, 'μ'),\n",
    "         loc   = fs(0, 0, 1., .1, 'Location'),\n",
    "         scale = fs(1, .1, 5, .1, 'Scale'));"
   ]
  }
 ],
 "metadata": {
  "kernelspec": {
   "display_name": "Python 3",
   "language": "python",
   "name": "python3"
  },
  "language_info": {
   "codemirror_mode": {
    "name": "ipython",
    "version": 3
   },
   "file_extension": ".py",
   "mimetype": "text/x-python",
   "name": "python",
   "nbconvert_exporter": "python",
   "pygments_lexer": "ipython3",
   "version": "3.7.3"
  }
 },
 "nbformat": 4,
 "nbformat_minor": 2
}
